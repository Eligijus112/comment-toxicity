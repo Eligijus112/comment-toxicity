{
 "cells": [
  {
   "cell_type": "markdown",
   "id": "b45768f0",
   "metadata": {},
   "source": [
    "# Importing packages "
   ]
  },
  {
   "cell_type": "code",
   "execution_count": null,
   "id": "9c7f6dc7",
   "metadata": {},
   "outputs": [],
   "source": [
    "# Data wrangling \n",
    "import pandas as pd \n",
    "\n",
    "# Fastetext embeddings\n",
    "import fasttext\n",
    "\n",
    "# Importing regex \n",
    "import re \n",
    "\n",
    "# Array math \n",
    "import numpy as np"
   ]
  },
  {
   "cell_type": "markdown",
   "id": "e8a90c86",
   "metadata": {},
   "source": [
    "# Reading the data "
   ]
  },
  {
   "cell_type": "code",
   "execution_count": null,
   "id": "49242903",
   "metadata": {},
   "outputs": [],
   "source": [
    "d = pd.read_csv(\"data/comments_to_score.csv\")"
   ]
  },
  {
   "cell_type": "code",
   "execution_count": null,
   "id": "cfd12e4e",
   "metadata": {},
   "outputs": [],
   "source": [
    "print(f\"Number of comments: {d.shape[0]}\")"
   ]
  },
  {
   "cell_type": "code",
   "execution_count": null,
   "id": "5fcd8d42",
   "metadata": {},
   "outputs": [],
   "source": [
    "d.columns"
   ]
  },
  {
   "cell_type": "markdown",
   "id": "07487f9d",
   "metadata": {},
   "source": [
    "# Loading the fasttext embeddings"
   ]
  },
  {
   "cell_type": "code",
   "execution_count": null,
   "id": "85d049f1",
   "metadata": {},
   "outputs": [],
   "source": [
    "embeddings = fasttext.load_model('embeddings/cc.en.300.bin')"
   ]
  },
  {
   "cell_type": "markdown",
   "id": "53fd94ec",
   "metadata": {},
   "source": [
    "# Cleaning the text "
   ]
  },
  {
   "cell_type": "code",
   "execution_count": null,
   "id": "fb04468b",
   "metadata": {},
   "outputs": [],
   "source": [
    "def clean_text(text: str) -> str:\n",
    "    \"\"\"\n",
    "    Function to clean the text for embedding creation\n",
    "    \"\"\"\n",
    "    # Lowering \n",
    "    text = text.lower()\n",
    "    \n",
    "    # Leaving only the english letters and numerics\n",
    "    text = text.replace('\\n', ' ')\n",
    "\n",
    "    # Removing the punctuations\n",
    "    text = re.sub(r'[^\\w\\s]', ' ', text)\n",
    "\n",
    "    # Removing the special characters\n",
    "    text = re.sub('[^A-Za-z0-9]+', ' ', text)\n",
    "\n",
    "    # Removing more than 1 whitespaces\n",
    "    text = re.sub('\\s+', ' ', text)\n",
    "\n",
    "    return text"
   ]
  },
  {
   "cell_type": "code",
   "execution_count": null,
   "id": "c1368cd1",
   "metadata": {},
   "outputs": [],
   "source": [
    "# Applying the function \n",
    "d['clean_text'] = [clean_text(x) for x in d['text']]"
   ]
  },
  {
   "cell_type": "markdown",
   "id": "2fa5a3d8",
   "metadata": {},
   "source": [
    "# Creating the embedding representations of the sentences "
   ]
  },
  {
   "cell_type": "code",
   "execution_count": null,
   "id": "820544b0",
   "metadata": {},
   "outputs": [],
   "source": [
    "vectors = [embeddings.get_sentence_vector(text) for text in d['clean_text']]\n",
    "\n",
    "# Resizing \n",
    "vectors = np.reshape(vectors, (len(d), 300))"
   ]
  },
  {
   "cell_type": "code",
   "execution_count": null,
   "id": "a3125b92",
   "metadata": {},
   "outputs": [],
   "source": [
    "# Calculating the global mean of all the vectors \n",
    "global_mean = np.mean(vectors, axis=0)\n",
    "\n",
    "# Calculating the euclidean distance between the average word vector and all the vectors\n",
    "d['distance'] = [np.linalg.norm(global_mean - x) for x in vectors]\n",
    "\n",
    "# Sorting by distance \n",
    "d.sort_values(by='distance', inplace=True)\n",
    "\n",
    "# Renaming the distance metric to \"score\"\n",
    "d.rename(columns={'distance': 'score'}, inplace=True)"
   ]
  },
  {
   "cell_type": "code",
   "execution_count": null,
   "id": "618bcb35",
   "metadata": {},
   "outputs": [],
   "source": [
    "# Most \"average\" comments\n",
    "d.head(20)"
   ]
  },
  {
   "cell_type": "code",
   "execution_count": null,
   "id": "ba71748d",
   "metadata": {},
   "outputs": [],
   "source": [
    "# Most unique comments\n",
    "d.tail(20)"
   ]
  },
  {
   "cell_type": "markdown",
   "id": "a879ffdb",
   "metadata": {},
   "source": [
    "# Making the sample submission\n"
   ]
  },
  {
   "cell_type": "code",
   "execution_count": null,
   "id": "0ae39e52",
   "metadata": {},
   "outputs": [],
   "source": [
    "d[['comment_id', 'score']].to_csv(\"submission.csv\", index=False)"
   ]
  }
 ],
 "metadata": {
  "kernelspec": {
   "display_name": "Python 3 (ipykernel)",
   "language": "python",
   "name": "python3"
  },
  "language_info": {
   "codemirror_mode": {
    "name": "ipython",
    "version": 3
   },
   "file_extension": ".py",
   "mimetype": "text/x-python",
   "name": "python",
   "nbconvert_exporter": "python",
   "pygments_lexer": "ipython3",
   "version": "3.9.9"
  }
 },
 "nbformat": 4,
 "nbformat_minor": 5
}
